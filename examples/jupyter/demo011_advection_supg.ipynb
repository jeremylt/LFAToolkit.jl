{
 "cells": [
  {
   "cell_type": "markdown",
   "metadata": {},
   "source": [
    "# SUPG Advection Example: Dispersion and Phase Speed Diagrams"
   ]
  },
  {
   "cell_type": "code",
   "execution_count": null,
   "metadata": {
    "tags": []
   },
   "outputs": [],
   "source": [
    "# dependencies\n",
    "using Pkg\n",
    "Pkg.activate(\".\")\n",
    "Pkg.instantiate()\n",
    "Pkg.develop(path=\"../..\")\n",
    "using Plots\n",
    "using LFAToolkit\n",
    "using LinearAlgebra "
   ]
  },
  {
   "cell_type": "code",
   "execution_count": null,
   "metadata": {
    "tags": [
     "parameters"
    ]
   },
   "outputs": [],
   "source": [
    "# parameters\n",
    "p             = 2;\n",
    "q             = p;\n",
    "dimension     = 1;\n",
    "mapping       = nothing;\n",
    "collocate     = false;\n",
    "c             = 1.0; # advective speed\n",
    "τ             = 0.5 / (p - 1); # Tau scaling for SUPG, 0 returns Galerkin method\n",
    "numbersteps   = 100;\n",
    "maxeigenvalue = 0;\n",
    "θ_min         = 0;\n",
    "θ_max         = (p-1) * π;\n",
    "θ_range       = LinRange(θ_min, θ_max, numbersteps);"
   ]
  },
  {
   "cell_type": "code",
   "execution_count": null,
   "metadata": {
    "tags": []
   },
   "outputs": [],
   "source": [
    "# setup\n",
    "basis = TensorH1LagrangeBasis(p, q, 1, 1, collocatedquadrature = collocate, mapping = mapping)\n",
    "Δx = 1.0\n",
    "\n",
    "mesh = []\n",
    "if dimension == 1\n",
    "   mesh = Mesh1D(Δx)\n",
    "elseif dimension == 2\n",
    "   mesh = Mesh2D(Δx, Δx)\n",
    "end\n",
    "\n",
    "# Element mappings\n",
    "dxdξ = Δx / 2 # 2 comes from quadrature domain of [-1,1]\n",
    "dξdx = 1 / dxdξ\n",
    "det_dxdξ = dxdξ # Determinant of mapping Jacobian"
   ]
  },
  {
   "cell_type": "code",
   "execution_count": null,
   "metadata": {
    "code_folding": [
     1,
     9,
     10,
     21,
     26,
     29
    ],
    "tags": []
   },
   "outputs": [],
   "source": [
    "# SUPG advection weak form \n",
    "function supgadvectionweakform(U::Matrix{Float64}, w::Array{Float64})\n",
    "    u = U[1, :]\n",
    "    du = U[2, :]\n",
    "    dv = dξdx * (c * u - c * τ * (c * du) * dξdx) * w[1] * det_dxdξ\n",
    "    return [dv]\n",
    "end\n",
    "\n",
    "# SUPG advection operator\n",
    "inputs = [\n",
    "    OperatorField(\n",
    "        basis,\n",
    "        [EvaluationMode.interpolation, EvaluationMode.gradient],\n",
    "        \"advected field\",\n",
    "    ),\n",
    "    OperatorField(basis, [EvaluationMode.quadratureweights], \"quadrature weights\"),\n",
    "]\n",
    "outputs = [OperatorField(basis, [EvaluationMode.gradient])]\n",
    "supgadvection = Operator(supgadvectionweakform, mesh, inputs, outputs)\n",
    "\n",
    "# SUPG mass weak form and mass operator\n",
    "function supgmassweakform(udot::Array{Float64}, w::Array{Float64})\n",
    "    v = udot * w[1] * det_dxdξ\n",
    "    dv = dξdx * c * τ * udot * w[1] * det_dxdξ\n",
    "    return ([v; dv],)\n",
    "end\n",
    "supgmass = Operator(\n",
    "    supgmassweakform,\n",
    "    mesh,\n",
    "    [\n",
    "        OperatorField(basis, [EvaluationMode.interpolation], \"u_t\"),\n",
    "        OperatorField(basis, [EvaluationMode.quadratureweights], \"quadrature weights\"),\n",
    "    ],\n",
    "    [OperatorField(basis, [EvaluationMode.interpolation, EvaluationMode.gradient])],\n",
    ")"
   ]
  },
  {
   "cell_type": "code",
   "execution_count": null,
   "metadata": {
    "code_folding": [
     2,
     10,
     20
    ],
    "tags": []
   },
   "outputs": [],
   "source": [
    "# compute and plot dispersion and phase speed\n",
    "# -- 1D --\n",
    "function advectionsupgsymbol(θ_range)\n",
    "    A = computesymbols(supgadvection, [θ_range]) # transform from reference to physical on dx=1 grid\n",
    "    M = computesymbols(supgmass, [θ_range]) # mass matrix\n",
    "    return sort(imag.(eigvals(-M \\ A)))\n",
    "end\n",
    "\n",
    "eigenvalues = hcat(advectionsupgsymbol.(θ_range)...)\n",
    "\n",
    "plot1 = plot(θ_range / π, eigenvalues' ./ π, linewidth = 3) # Dispersion diagram\n",
    "        plot!(\n",
    "        identity,\n",
    "        xlabel = \"θ/π\",\n",
    "        ylabel = \"Eigenvalues\",\n",
    "        label = \"exact\",\n",
    "        legend = :none,\n",
    "        color = :black,\n",
    "        title = \"Dispersion relation, p=$p, collocate=$collocate, τ=$τ\",\n",
    ")\n",
    "plot2 = plot(θ_range / π, eigenvalues' ./ θ_range, linewidth = 3) # Phase speed diagram\n",
    "        plot!(\n",
    "        one,\n",
    "        xlabel = \"θ/π\",\n",
    "        ylabel = \"Eigvalues/θ\",\n",
    "        legend = :none,\n",
    "        color = :black,\n",
    "        title = \"Phase speed, p=$p, collocate=$collocate, τ=$τ\",\n",
    ")\n",
    "plot!(plot1, plot2, layout = (1, 2), size = (1400, 700))"
   ]
  }
 ],
 "metadata": {
  "celltoolbar": "Tags",
  "kernelspec": {
   "display_name": "Julia 1.9.1",
   "language": "julia",
   "name": "julia-1.9"
  },
  "language_info": {
   "file_extension": ".jl",
   "mimetype": "application/julia",
   "name": "julia",
   "version": "1.9.1"
  }
 },
 "nbformat": 4,
 "nbformat_minor": 4
}
