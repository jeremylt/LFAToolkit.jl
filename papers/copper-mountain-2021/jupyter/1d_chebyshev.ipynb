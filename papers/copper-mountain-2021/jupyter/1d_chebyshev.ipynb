{
 "cells": [
  {
   "cell_type": "markdown",
   "metadata": {},
   "source": [
    "# Chebyshev Example"
   ]
  },
  {
   "cell_type": "code",
   "execution_count": null,
   "metadata": {
    "scrolled": true
   },
   "outputs": [],
   "source": [
    "# dependencies\n",
    "using Pkg\n",
    "Pkg.activate(\".\")\n",
    "Pkg.instantiate()\n",
    "Pkg.develop(path=\"../../..\")\n",
    "using Plots\n",
    "using LFAToolkit\n",
    "using LinearAlgebra"
   ]
  },
  {
   "cell_type": "markdown",
   "metadata": {},
   "source": [
    "## Spectrum of Symbol, p=2"
   ]
  },
  {
   "cell_type": "code",
   "execution_count": null,
   "metadata": {
    "code_folding": []
   },
   "outputs": [],
   "source": [
    "# setup\n",
    "p = 2\n",
    "dimension = 1\n",
    "mesh = Mesh1D(1.0)\n",
    "\n",
    "# operator\n",
    "diffusion = GalleryOperator(\"diffusion\", p + 1, p + 1, mesh)\n",
    "\n",
    "# Chebyshev smoother\n",
    "chebyshev = Chebyshev(diffusion)"
   ]
  },
  {
   "cell_type": "code",
   "execution_count": null,
   "metadata": {
    "code_folding": [
     14,
     16,
     33
    ]
   },
   "outputs": [],
   "source": [
    "# full operator symbols\n",
    "numbersteps = 100\n",
    "maxeigenvalue = 0\n",
    "θ_min = -π/2\n",
    "θ_max = 3π/2\n",
    "θ_step = 2π/(numbersteps-1)\n",
    "θ_range = θ_min:θ_step:θ_max\n",
    "\n",
    "# compute and plot smoothing factor\n",
    "# setup\n",
    "ω = [3]\n",
    "eigenvalues = zeros(numbersteps, p)\n",
    "\n",
    "# compute\n",
    "for i in 1:numbersteps\n",
    "    θ = [θ_range[i]]\n",
    "    if abs(θ[1]) > π/512\n",
    "        A = computesymbols(chebyshev, ω, θ)\n",
    "        currenteigenvalues = [real(val) for val in eigvals(I - A)]\n",
    "        eigenvalues[i, :] = currenteigenvalues\n",
    "    end\n",
    "end\n",
    "\n",
    "temp = eigenvalues[1:2, 1]\n",
    "eigenvalues[1:2, 1] = eigenvalues[1:2, 2]\n",
    "eigenvalues[1:2, 2] = temp\n",
    "\n",
    "temp = eigenvalues[50:100, 1]\n",
    "eigenvalues[50:100, 1] = eigenvalues[50:100, 2]\n",
    "eigenvalues[50:100, 2] = temp\n",
    "\n",
    "# plot\n",
    "xrange = θ_range/π\n",
    "plot(\n",
    "    xrange,\n",
    "    xlabel = \"θ/π\",\n",
    "    xtickfont = font(12, \"Courier\"),\n",
    "    eigenvalues,\n",
    "    ytickfont = font(12, \"Courier\"),\n",
    "    ylabel = \"λ\",\n",
    "    linewidth = 3,\n",
    "    legend = :none,\n",
    "    title = \"Spectrum of Third Order Chebyshev Symbol\",\n",
    "    palette=palette(:tab10),\n",
    ")\n",
    "ylims!(min(0.0, eigenvalues...) * 1.1, 1.5)"
   ]
  },
  {
   "cell_type": "code",
   "execution_count": null,
   "metadata": {},
   "outputs": [],
   "source": [
    "savefig(\"chebyshev_spectrum_2\")"
   ]
  },
  {
   "cell_type": "markdown",
   "metadata": {},
   "source": [
    "## Spectrum of Symbol, p=4"
   ]
  },
  {
   "cell_type": "code",
   "execution_count": null,
   "metadata": {},
   "outputs": [],
   "source": [
    "# setup\n",
    "p = 4\n",
    "dimension = 1\n",
    "mesh = Mesh1D(1.0)\n",
    "\n",
    "# operator\n",
    "diffusion = GalleryOperator(\"diffusion\", p + 1, p + 1, mesh)\n",
    "\n",
    "# Chebyshev smoother\n",
    "chebyshev = Chebyshev(diffusion)"
   ]
  },
  {
   "cell_type": "code",
   "execution_count": null,
   "metadata": {
    "code_folding": [
     14,
     16,
     29
    ],
    "scrolled": true
   },
   "outputs": [],
   "source": [
    "# full operator symbols\n",
    "numbersteps = 100\n",
    "maxeigenvalue = 0\n",
    "θ_min = -π/2\n",
    "θ_max = 3π/2\n",
    "θ_step = 2π/(numbersteps-1)\n",
    "θ_range = θ_min:θ_step:θ_max\n",
    "\n",
    "# compute and plot smoothing factor\n",
    "# setup\n",
    "ω = [3]\n",
    "eigenvalues = zeros(numbersteps, p)\n",
    "\n",
    "# compute\n",
    "for i in 1:numbersteps\n",
    "    θ = [θ_range[i]]\n",
    "    if abs(θ[1]) > π/512\n",
    "        A = computesymbols(chebyshev, ω, θ)\n",
    "        currenteigenvalues = [real(val) for val in eigvals(I - A)]\n",
    "        eigenvalues[i, :] = currenteigenvalues\n",
    "    end\n",
    "end\n",
    "\n",
    "temp = eigenvalues[24:27, 3]\n",
    "eigenvalues[24:27, 3] = eigenvalues[24:27, 4]\n",
    "eigenvalues[24:27, 4] = temp\n",
    "\n",
    "# plot\n",
    "xrange = θ_range/π\n",
    "plot(\n",
    "    xrange,\n",
    "    xlabel = \"θ/π\",\n",
    "    xtickfont = font(12, \"Courier\"),\n",
    "    eigenvalues,\n",
    "    ytickfont = font(12, \"Courier\"),\n",
    "    ylabel = \"λ\",\n",
    "    linewidth = 3,\n",
    "    legend = :none,\n",
    "    title = \"Spectrum of Third Order Chebyshev Symbol\",\n",
    "    palette=palette(:tab10),\n",
    ")\n",
    "ylims!(min(0.0, eigenvalues...) * 1.1,1.5)"
   ]
  },
  {
   "cell_type": "code",
   "execution_count": null,
   "metadata": {},
   "outputs": [],
   "source": [
    "savefig(\"chebyshev_spectrum_4\")"
   ]
  }
 ],
 "metadata": {
  "kernelspec": {
   "display_name": "Julia 1.6.1",
   "language": "julia",
   "name": "julia-1.6"
  },
  "language_info": {
   "file_extension": ".jl",
   "mimetype": "application/julia",
   "name": "julia",
   "version": "1.7.2"
  }
 },
 "nbformat": 4,
 "nbformat_minor": 4
}
