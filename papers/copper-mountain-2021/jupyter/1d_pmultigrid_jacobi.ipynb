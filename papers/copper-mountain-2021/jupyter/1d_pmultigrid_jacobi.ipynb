{
 "cells": [
  {
   "cell_type": "markdown",
   "metadata": {},
   "source": [
    "# P-Multigrid + Jacobi Example"
   ]
  },
  {
   "cell_type": "code",
   "execution_count": null,
   "metadata": {
    "scrolled": true
   },
   "outputs": [],
   "source": [
    "# dependencies\n",
    "using Pkg\n",
    "Pkg.activate(\".\")\n",
    "Pkg.instantiate()\n",
    "Pkg.develop(path=\"../../..\")\n",
    "using Plots\n",
    "using LFAToolkit\n",
    "using LinearAlgebra"
   ]
  },
  {
   "cell_type": "markdown",
   "metadata": {},
   "source": [
    "## Two-Grid Smoothing Factor"
   ]
  },
  {
   "cell_type": "markdown",
   "metadata": {},
   "source": [
    "### p = 4 -> p = 2, v = 1"
   ]
  },
  {
   "cell_type": "code",
   "execution_count": null,
   "metadata": {},
   "outputs": [],
   "source": [
    "# setup\n",
    "finep = 4\n",
    "coarsep = 2\n",
    "numbercomponents = 1\n",
    "dimension = 1\n",
    "mesh = Mesh1D(1.0)\n",
    "\n",
    "ctofbasis = TensorH1LagrangePProlongationBasis(coarsep+1, finep+1, numbercomponents, dimension)\n",
    "\n",
    "# diffusion operators\n",
    "finediffusion = GalleryOperator(\"diffusion\", finep+1, finep+1, mesh)\n",
    "coarsediffusion = GalleryOperator(\"diffusion\", coarsep+1, finep+1, mesh)\n",
    "\n",
    "# Jacobi smoother\n",
    "jacobi = Jacobi(finediffusion)\n",
    "\n",
    "# p-multigrid preconditioner\n",
    "multigrid = PMultigrid(finediffusion, coarsediffusion, jacobi, [ctofbasis])"
   ]
  },
  {
   "cell_type": "code",
   "execution_count": null,
   "metadata": {
    "code_folding": [
     17,
     20,
     29
    ]
   },
   "outputs": [],
   "source": [
    "# full operator symbols\n",
    "numbersteps = 250\n",
    "maxeigenvalue = 0\n",
    "θ_min = -π/2\n",
    "θ_max = 3π/2\n",
    "θ_step = 2π/(numbersteps-1)\n",
    "θ_range = θ_min:θ_step:θ_max\n",
    "ω_min = 0.0\n",
    "ω_max = 1.05\n",
    "ω_step = (ω_max-ω_min)/(numbersteps-1)\n",
    "ω_range = ω_min:ω_step:ω_max\n",
    "\n",
    "# compute and plot smoothing factor\n",
    "# setup\n",
    "eigenvalues = zeros(numbersteps)\n",
    "\n",
    "# compute\n",
    "for i in 1:numbersteps, j in 1:numbersteps\n",
    "    θ = [θ_range[i]]\n",
    "    ω = [ω_range[j]]\n",
    "    if abs(θ[1]) >  π/128\n",
    "        A = computesymbols(multigrid, ω, [1, 1], θ)\n",
    "        currenteigenvalues = [abs(val) for val in eigvals(A)]\n",
    "        eigenvalues[j] = max(eigenvalues[j], currenteigenvalues...)\n",
    "    end\n",
    "end\n",
    "\n",
    "# plot\n",
    "xrange = ω_range\n",
    "plot(\n",
    "    xrange,\n",
    "    xlabel=\"ω\",\n",
    "    xtickfont=font(12, \"Courier\"),\n",
    "    eigenvalues,\n",
    "    ytickfont=font(12, \"Courier\"),\n",
    "    ylabel=\"spectral radius\",\n",
    "    linewidth=3,\n",
    "    legend=:none,\n",
    "    title=\"Two-Grid Convergence Factor\",\n",
    "    palette=palette(:tab10)\n",
    ")\n",
    "ylims!(min(0.0, eigenvalues...) * 1.1, 1.5)"
   ]
  },
  {
   "cell_type": "code",
   "execution_count": null,
   "metadata": {},
   "outputs": [],
   "source": [
    "savefig(\"two_grid_converge_4_to_2\")"
   ]
  },
  {
   "cell_type": "markdown",
   "metadata": {},
   "source": [
    "### P = 4 -> P = 1, v = 1"
   ]
  },
  {
   "cell_type": "code",
   "execution_count": null,
   "metadata": {},
   "outputs": [],
   "source": [
    "# setup\n",
    "finep = 4\n",
    "coarsep = 1\n",
    "numbercomponents = 1\n",
    "dimension = 1\n",
    "mesh = Mesh1D(1.0)\n",
    "\n",
    "ctofbasis = TensorH1LagrangePProlongationBasis(coarsep+1, finep+1, numbercomponents, dimension)\n",
    "\n",
    "# diffusion operators\n",
    "finediffusion = GalleryOperator(\"diffusion\", finep+1, finep+1, mesh)\n",
    "coarsediffusion = GalleryOperator(\"diffusion\", coarsep+1, finep+1, mesh)\n",
    "\n",
    "# Jacobi smoother\n",
    "jacobi = Jacobi(finediffusion)\n",
    "\n",
    "# p-multigrid preconditioner\n",
    "multigrid = PMultigrid(finediffusion, coarsediffusion, jacobi, [ctofbasis])"
   ]
  },
  {
   "cell_type": "code",
   "execution_count": null,
   "metadata": {
    "code_folding": [
     17,
     20,
     29
    ],
    "scrolled": true
   },
   "outputs": [],
   "source": [
    "# full operator symbols\n",
    "numbersteps = 250\n",
    "maxeigenvalue = 0\n",
    "θ_min = -π/2\n",
    "θ_max = 3π/2\n",
    "θ_step = 2π/(numbersteps-1)\n",
    "θ_range = θ_min:θ_step:θ_max\n",
    "ω_min = 0.0\n",
    "ω_max = 1.05\n",
    "ω_step = (ω_max-ω_min)/(numbersteps-1)\n",
    "ω_range = ω_min:ω_step:ω_max\n",
    "\n",
    "# compute and plot smoothing factor\n",
    "# setup\n",
    "eigenvalues = zeros(numbersteps)\n",
    "\n",
    "# compute\n",
    "for i in 1:numbersteps, j in 1:numbersteps\n",
    "    θ = [θ_range[i]]\n",
    "    ω = [ω_range[j]]\n",
    "    if abs(θ[1]) >  π/128\n",
    "        A = computesymbols(multigrid, ω, [1, 1], θ)\n",
    "        currenteigenvalues = [abs(val) for val in eigvals(A)]\n",
    "        eigenvalues[j] = max(eigenvalues[j], currenteigenvalues...)\n",
    "    end\n",
    "end\n",
    "\n",
    "# plot\n",
    "xrange = ω_range\n",
    "plot(\n",
    "    xrange,\n",
    "    xlabel=\"ω\",\n",
    "    xtickfont=font(12, \"Courier\"),\n",
    "    eigenvalues,\n",
    "    ytickfont=font(12, \"Courier\"),\n",
    "    ylabel=\"spectral radius\",\n",
    "    linewidth=3,\n",
    "    legend=:none,\n",
    "    title=\"Two-Grid Convergence Factor\",\n",
    "    palette=palette(:tab10)\n",
    ")\n",
    "ylims!(min(0.0, eigenvalues...) * 1.1, 1.5)"
   ]
  },
  {
   "cell_type": "code",
   "execution_count": null,
   "metadata": {},
   "outputs": [],
   "source": [
    "savefig(\"two_grid_converge_4_to_1\")"
   ]
  },
  {
   "cell_type": "markdown",
   "metadata": {},
   "source": [
    "### P = 4 -> P = 2, v = 2"
   ]
  },
  {
   "cell_type": "code",
   "execution_count": null,
   "metadata": {},
   "outputs": [],
   "source": [
    "# setup\n",
    "finep = 4\n",
    "coarsep = 2\n",
    "numbercomponents = 1\n",
    "dimension = 1\n",
    "mesh = Mesh1D(1.0)\n",
    "\n",
    "ctofbasis = TensorH1LagrangePProlongationBasis(coarsep+1, finep+1, numbercomponents, dimension)\n",
    "\n",
    "# diffusion operators\n",
    "finediffusion = GalleryOperator(\"diffusion\", finep+1, finep+1, mesh)\n",
    "coarsediffusion = GalleryOperator(\"diffusion\", coarsep+1, finep+1, mesh)\n",
    "\n",
    "# Jacobi smoother\n",
    "jacobi = Jacobi(finediffusion)\n",
    "\n",
    "# p-multigrid preconditioner\n",
    "multigrid = PMultigrid(finediffusion, coarsediffusion, jacobi, [ctofbasis])"
   ]
  },
  {
   "cell_type": "code",
   "execution_count": null,
   "metadata": {
    "code_folding": [
     17,
     20,
     29
    ]
   },
   "outputs": [],
   "source": [
    "# full operator symbols\n",
    "numbersteps = 250\n",
    "maxeigenvalue = 0\n",
    "θ_min = -π/2\n",
    "θ_max = 3π/2\n",
    "θ_step = 2π/(numbersteps-1)\n",
    "θ_range = θ_min:θ_step:θ_max\n",
    "ω_min = 0.0\n",
    "ω_max = 1.05\n",
    "ω_step = (ω_max-ω_min)/(numbersteps-1)\n",
    "ω_range = ω_min:ω_step:ω_max\n",
    "\n",
    "# compute and plot smoothing factor\n",
    "# setup\n",
    "eigenvalues = zeros(numbersteps)\n",
    "\n",
    "# compute\n",
    "for i in 1:numbersteps, j in 1:numbersteps\n",
    "    θ = [θ_range[i]]\n",
    "    ω = [ω_range[j]]\n",
    "    if abs(θ[1]) >  π/128\n",
    "        A = computesymbols(multigrid, ω, [2, 2], θ)\n",
    "        currenteigenvalues = [abs(val) for val in eigvals(A)]\n",
    "        eigenvalues[j] = max(eigenvalues[j], currenteigenvalues...)\n",
    "    end\n",
    "end\n",
    "\n",
    "# plot\n",
    "xrange = ω_range\n",
    "plot(\n",
    "    xrange,\n",
    "    xlabel=\"ω\",\n",
    "    xtickfont=font(12, \"Courier\"),\n",
    "    eigenvalues,\n",
    "    ytickfont=font(12, \"Courier\"),\n",
    "    ylabel=\"spectral radius\",\n",
    "    linewidth=3,\n",
    "    legend=:none,\n",
    "    title=\"Two-Grid Convergence Factor\",\n",
    "    palette=palette(:tab10)\n",
    ")\n",
    "ylims!(min(0.0, eigenvalues...) * 1.1, 1.5)"
   ]
  },
  {
   "cell_type": "code",
   "execution_count": null,
   "metadata": {},
   "outputs": [],
   "source": [
    "savefig(\"two_grid_converge_4_to_2_2_smooth\")"
   ]
  },
  {
   "cell_type": "markdown",
   "metadata": {},
   "source": [
    "### P = 4 -> P = 1, v = 2"
   ]
  },
  {
   "cell_type": "code",
   "execution_count": null,
   "metadata": {},
   "outputs": [],
   "source": [
    "# setup\n",
    "finep = 4\n",
    "coarsep = 1\n",
    "numbercomponents = 1\n",
    "dimension = 1\n",
    "mesh = Mesh1D(1.0)\n",
    "\n",
    "ctofbasis = TensorH1LagrangePProlongationBasis(coarsep+1, finep+1, numbercomponents, dimension)\n",
    "\n",
    "# diffusion operators\n",
    "finediffusion = GalleryOperator(\"diffusion\", finep+1, finep+1, mesh)\n",
    "coarsediffusion = GalleryOperator(\"diffusion\", coarsep+1, finep+1, mesh)\n",
    "\n",
    "# Jacobi smoother\n",
    "jacobi = Jacobi(finediffusion)\n",
    "\n",
    "# p-multigrid preconditioner\n",
    "multigrid = PMultigrid(finediffusion, coarsediffusion, jacobi, [ctofbasis])"
   ]
  },
  {
   "cell_type": "code",
   "execution_count": null,
   "metadata": {
    "code_folding": [
     17,
     20,
     29
    ],
    "scrolled": true
   },
   "outputs": [],
   "source": [
    "# full operator symbols\n",
    "numbersteps = 250\n",
    "maxeigenvalue = 0\n",
    "θ_min = -π/2\n",
    "θ_max = 3π/2\n",
    "θ_step = 2π/(numbersteps-1)\n",
    "θ_range = θ_min:θ_step:θ_max\n",
    "ω_min = 0.0\n",
    "ω_max = 1.05\n",
    "ω_step = (ω_max-ω_min)/(numbersteps-1)\n",
    "ω_range = ω_min:ω_step:ω_max\n",
    "\n",
    "# compute and plot smoothing factor\n",
    "# setup\n",
    "eigenvalues = zeros(numbersteps)\n",
    "\n",
    "# compute\n",
    "for i in 1:numbersteps, j in 1:numbersteps\n",
    "    θ = [θ_range[i]]\n",
    "    ω = [ω_range[j]]\n",
    "    if abs(θ[1]) >  π/128\n",
    "        A = computesymbols(multigrid, ω, [2, 2], θ)\n",
    "        currenteigenvalues = [abs(val) for val in eigvals(A)]\n",
    "        eigenvalues[j] = max(eigenvalues[j], currenteigenvalues...)\n",
    "    end\n",
    "end\n",
    "\n",
    "# plot\n",
    "xrange = ω_range\n",
    "plot(\n",
    "    xrange,\n",
    "    xlabel=\"ω\",\n",
    "    xtickfont=font(12, \"Courier\"),\n",
    "    eigenvalues,\n",
    "    ytickfont=font(12, \"Courier\"),\n",
    "    ylabel=\"spectral radius\",\n",
    "    linewidth=3,\n",
    "    legend=:none,\n",
    "    title=\"Two-Grid Convergence Factor\",\n",
    "    palette=palette(:tab10)\n",
    ")\n",
    "ylims!(min(0.0, eigenvalues...) * 1.1, 1.5)"
   ]
  },
  {
   "cell_type": "code",
   "execution_count": null,
   "metadata": {},
   "outputs": [],
   "source": [
    "savefig(\"two_grid_converge_4_to_1_2_smooth\")"
   ]
  }
 ],
 "metadata": {
  "kernelspec": {
   "display_name": "Julia 1.6.1",
   "language": "julia",
   "name": "julia-1.6"
  },
  "language_info": {
   "file_extension": ".jl",
   "mimetype": "application/julia",
   "name": "julia",
   "version": "1.7.2"
  }
 },
 "nbformat": 4,
 "nbformat_minor": 4
}
