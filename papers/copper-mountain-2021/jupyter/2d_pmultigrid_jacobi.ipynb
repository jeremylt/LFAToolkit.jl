{
 "cells": [
  {
   "cell_type": "markdown",
   "metadata": {},
   "source": [
    "# P-Multigrid + Jacobi Example"
   ]
  },
  {
   "cell_type": "code",
   "execution_count": null,
   "metadata": {
    "scrolled": true
   },
   "outputs": [],
   "source": [
    "# dependencies\n",
    "using LFAToolkit\n",
    "using LinearAlgebra\n",
    "using Pkg\n",
    "Pkg.activate(\"./\")\n",
    "Pkg.instantiate()\n",
    "using Plots"
   ]
  },
  {
   "cell_type": "markdown",
   "metadata": {},
   "source": [
    "## p=4 -> p=1, v=1"
   ]
  },
  {
   "cell_type": "code",
   "execution_count": null,
   "metadata": {
    "code_folding": [
     7
    ]
   },
   "outputs": [],
   "source": [
    "# setup\n",
    "finep = 4\n",
    "coarsep = 1\n",
    "dimension = 2\n",
    "numbercomponents = 1\n",
    "mesh = Mesh2D(1.0, 1.0)\n",
    "\n",
    "ctofbasis = TensorH1LagrangePProlongationBasis(coarsep+1, finep+1, numbercomponents, dimension)\n",
    "\n",
    "# diffusion operators\n",
    "finediffusion = GalleryOperator(\"diffusion\", finep+1, finep+1, mesh)\n",
    "coarsediffusion = GalleryOperator(\"diffusion\", coarsep+1, finep+1, mesh)\n",
    "\n",
    "# Jacobi smoother\n",
    "jacobi = Jacobi(finediffusion)\n",
    "\n",
    "# p-multigrid preconditioner\n",
    "multigrid = PMultigrid(finediffusion, coarsediffusion, jacobi, [ctofbasis])"
   ]
  },
  {
   "cell_type": "code",
   "execution_count": null,
   "metadata": {
    "code_folding": [
     17,
     19,
     22,
     32
    ]
   },
   "outputs": [],
   "source": [
    "# full operator symbols\n",
    "numbersteps = 100\n",
    "maxeigenvalue = 0\n",
    "θ_min = -π/2\n",
    "θ_max = 3π/2\n",
    "θ_step = 2π/(numbersteps-1)\n",
    "θ_range = θ_min:θ_step:θ_max\n",
    "ω_min = 0.0\n",
    "ω_max = 1.1\n",
    "ω_step = (ω_max-ω_min)/(numbersteps-1)\n",
    "ω_range = ω_min:ω_step:ω_max\n",
    "\n",
    "# compute and plot smoothing factor\n",
    "# setup\n",
    "eigenvalues = zeros(numbersteps)\n",
    "\n",
    "# compute\n",
    "for i in 1:numbersteps, j in 1:numbersteps\n",
    "    θ = [θ_range[i], θ_range[j]]\n",
    "    if sqrt(abs(θ[1])^2 + abs(θ[2])^2) > π/256\n",
    "        M = computesymbols(multigrid, [1.0], [0, 0], θ)\n",
    "        S = I - computesymbols(jacobi, [1.0], θ)\n",
    "        for w in 1:numbersteps\n",
    "            ω = ω_range[w]\n",
    "            currenteigenvalues = [abs(val) for val in eigvals((I - ω*S) * M * (I - ω*S))]\n",
    "            eigenvalues[w] = max(eigenvalues[w], currenteigenvalues...)\n",
    "        end\n",
    "    end\n",
    "end\n",
    "\n",
    "# plot\n",
    "xrange = ω_range\n",
    "plot(\n",
    "    xrange,\n",
    "    xlabel=\"ω\",\n",
    "    xtickfont=font(12, \"Courier\"),\n",
    "    eigenvalues,\n",
    "    ytickfont=font(12, \"Courier\"),\n",
    "    ylabel=\"spectral radius\",\n",
    "    linewidth=3,\n",
    "    legend=:none,\n",
    "    title=\"Two-Grid Convergence Factor\",\n",
    "    palette=palette(:tab10)\n",
    ")\n",
    "ylims!(min(0.0, eigenvalues...) * 1.1, 1.75)"
   ]
  },
  {
   "cell_type": "code",
   "execution_count": null,
   "metadata": {},
   "outputs": [],
   "source": [
    "savefig(\"two_grid_converge_4_to_1_1_smooth_2d\")"
   ]
  },
  {
   "cell_type": "markdown",
   "metadata": {},
   "source": [
    "## p=4 -> p=1, v=2"
   ]
  },
  {
   "cell_type": "code",
   "execution_count": null,
   "metadata": {
    "code_folding": [
     7
    ]
   },
   "outputs": [],
   "source": [
    "# setup\n",
    "finep = 4\n",
    "coarsep = 1\n",
    "dimension = 2\n",
    "numbercomponents = 1\n",
    "mesh = Mesh2D(1.0, 1.0)\n",
    "\n",
    "ctofbasis = TensorH1LagrangePProlongationBasis(coarsep+1, finep+1, numbercomponents, dimension)\n",
    "\n",
    "# diffusion operators\n",
    "finediffusion = GalleryOperator(\"diffusion\", finep+1, finep+1, mesh)\n",
    "coarsediffusion = GalleryOperator(\"diffusion\", coarsep+1, finep+1, mesh)\n",
    "\n",
    "# Jacobi smoother\n",
    "jacobi = Jacobi(finediffusion)\n",
    "\n",
    "# p-multigrid preconditioner\n",
    "multigrid = PMultigrid(finediffusion, coarsediffusion, jacobi, [ctofbasis])"
   ]
  },
  {
   "cell_type": "code",
   "execution_count": null,
   "metadata": {
    "code_folding": [
     17,
     19,
     22,
     32
    ]
   },
   "outputs": [],
   "source": [
    "# full operator symbols\n",
    "numbersteps = 100\n",
    "maxeigenvalue = 0\n",
    "θ_min = -π/2\n",
    "θ_max = 3π/2\n",
    "θ_step = 2π/(numbersteps-1)\n",
    "θ_range = θ_min:θ_step:θ_max\n",
    "ω_min = 0.0\n",
    "ω_max = 1.1\n",
    "ω_step = (ω_max-ω_min)/(numbersteps-1)\n",
    "ω_range = ω_min:ω_step:ω_max\n",
    "\n",
    "# compute and plot smoothing factor\n",
    "# setup\n",
    "eigenvalues = zeros(numbersteps)\n",
    "\n",
    "# compute\n",
    "for i in 1:numbersteps, j in 1:numbersteps\n",
    "    θ = [θ_range[i], θ_range[j]]\n",
    "    if sqrt(abs(θ[1])^2 + abs(θ[2])^2) > π/256\n",
    "        M = computesymbols(multigrid, [1.0], [0, 0], θ)\n",
    "        S = I - computesymbols(jacobi, [1.0], θ)\n",
    "        for w in 1:numbersteps\n",
    "            ω = ω_range[w]\n",
    "            currenteigenvalues = [abs(val) for val in eigvals((I - ω*S)^2 * M * (I - ω*S)^2)]\n",
    "            eigenvalues[w] = max(eigenvalues[w], currenteigenvalues...)\n",
    "        end\n",
    "    end\n",
    "end\n",
    "\n",
    "# plot\n",
    "xrange = ω_range\n",
    "plot(\n",
    "    xrange,\n",
    "    xlabel=\"ω\",\n",
    "    xtickfont=font(12, \"Courier\"),\n",
    "    eigenvalues,\n",
    "    ytickfont=font(12, \"Courier\"),\n",
    "    ylabel=\"spectral radius\",\n",
    "    linewidth=3,\n",
    "    legend=:none,\n",
    "    title=\"Two-Grid Convergence Factor\",\n",
    "    palette=palette(:tab10)\n",
    ")\n",
    "ylims!(min(0.0, eigenvalues...) * 1.1, 1.75)"
   ]
  },
  {
   "cell_type": "code",
   "execution_count": null,
   "metadata": {},
   "outputs": [],
   "source": [
    "savefig(\"two_grid_converge_4_to_1_2_smooth_2d\")"
   ]
  }
 ],
 "metadata": {
  "kernelspec": {
   "display_name": "Julia 1.6.1",
   "language": "julia",
   "name": "julia-1.6"
  },
  "language_info": {
   "file_extension": ".jl",
   "mimetype": "application/julia",
   "name": "julia",
   "version": "1.7.2"
  }
 },
 "nbformat": 4,
 "nbformat_minor": 4
}
