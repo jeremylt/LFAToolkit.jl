{
 "cells": [
  {
   "cell_type": "code",
   "execution_count": null,
   "metadata": {},
   "outputs": [],
   "source": [
    "import math\n",
    "import numpy as np\n",
    "import functools\n",
    "import matplotlib\n",
    "import matplotlib.pyplot as plt"
   ]
  },
  {
   "cell_type": "code",
   "execution_count": null,
   "metadata": {},
   "outputs": [],
   "source": [
    "tab10 = matplotlib.cm.get_cmap('tab10')\n",
    "BLUE = tab10(0.05)\n",
    "GREY = tab10(0.75)\n",
    "YELLOW = tab10(0.85)"
   ]
  },
  {
   "cell_type": "code",
   "execution_count": null,
   "metadata": {},
   "outputs": [],
   "source": [
    "# basis nodes\n",
    "low_order_nodes = [-1.0, 1.0]\n",
    "high_order_nodes = [-1.0, 0.0, 1.0]\n",
    "\n",
    "def eval_lagrange(n, x, nodes):\n",
    "    node_n = nodes[n]\n",
    "    return functools.reduce(lambda a,b : a*b, [(x - node)/(node_n - node) if abs(node - node_n) > 1e-14 else 1 for node in nodes])\n",
    "\n",
    "# data for plotting\n",
    "x_plot = np.linspace(-1.0, 1.0, 200)\n",
    "low_order_plot = [[eval_lagrange(n, x, low_order_nodes) for x in x_plot] for n in [0, 1]]\n",
    "high_order_plot = [[eval_lagrange(n, x, low_order_nodes) + 1.25 for x in x_plot] for n in [0, 1]]\n",
    "\n",
    "# plot\n",
    "fig, ax1 = plt.subplots(figsize=(10, 8))\n",
    "\n",
    "ax1.set_ylabel('Basis Functions', fontsize=22)\n",
    "ax1.set_ylim([-0.25, 2.45])\n",
    "ax1.get_yaxis().set_ticks([])\n",
    "ax1.tick_params(labelsize=20)\n",
    "\n",
    "ax1.set_xlim([-1.05, 1.05])\n",
    "ax1.set_xlabel('Reference Space', fontsize=22)\n",
    "\n",
    "plt.plot(x_plot, low_order_plot[0], color=BLUE)\n",
    "plt.plot(x_plot, low_order_plot[1], color=YELLOW)\n",
    "plt.scatter(low_order_nodes, np.zeros(2), marker=\"X\", s=75, color=\"black\")\n",
    "\n",
    "plt.plot((x_plot - 1.0)/2, high_order_plot[0], color=BLUE)\n",
    "plt.plot((x_plot - 1.0)/2, high_order_plot[1], color=YELLOW)\n",
    "plt.plot((x_plot + 1.0)/2, high_order_plot[0], color=GREY)\n",
    "plt.plot((x_plot + 1.0)/2, high_order_plot[1], color=YELLOW)\n",
    "plt.scatter(high_order_nodes, 1.25*np.ones(3), marker=\"X\", s=75, color=\"black\")\n",
    "\n",
    "ax1.spines['top'].set_visible(False)\n",
    "ax1.spines['right'].set_visible(False)\n",
    "ax1.spines['left'].set_visible(False)\n",
    "plt.title('H-Prolongation from Coarse Basis to Fine Nodes', fontsize=26)\n",
    "\n",
    "plt.savefig(\"hProlongation\")"
   ]
  }
 ],
 "metadata": {
  "kernelspec": {
   "display_name": "Python 3 (ipykernel)",
   "language": "python",
   "name": "python3"
  },
  "language_info": {
   "codemirror_mode": {
    "name": "ipython",
    "version": 3
   },
   "file_extension": ".py",
   "mimetype": "text/x-python",
   "name": "python",
   "nbconvert_exporter": "python",
   "pygments_lexer": "ipython3",
   "version": "3.10.4"
  }
 },
 "nbformat": 4,
 "nbformat_minor": 4
}
