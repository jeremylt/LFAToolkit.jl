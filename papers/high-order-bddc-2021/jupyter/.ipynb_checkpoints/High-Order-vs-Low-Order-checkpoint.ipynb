{
 "cells": [
  {
   "cell_type": "code",
   "execution_count": null,
   "metadata": {},
   "outputs": [],
   "source": [
    "import matplotlib\n",
    "import matplotlib.pyplot as plt\n",
    "import numpy as np"
   ]
  },
  {
   "cell_type": "code",
   "execution_count": null,
   "metadata": {},
   "outputs": [],
   "source": [
    "tab10 = matplotlib.cm.get_cmap('tab10')\n",
    "BLUE = tab10(0.05)\n",
    "GREY = tab10(0.75)\n",
    "YELLOW = tab10(0.85)"
   ]
  },
  {
   "cell_type": "code",
   "execution_count": null,
   "metadata": {},
   "outputs": [],
   "source": [
    "# Setup Data\n",
    "p = [5, 7, 9, 11, 13, 15, 17]\n",
    "lumped_low = [4.444, 8.163, 12.269, 16.671, 21.314, 26.159, 31.179]\n",
    "dirichlet_low = [2.349, 2.825, 3.193, 3.495, 3.754, 3.981, 4.184]\n",
    "lumped_high = [12.948, 31.226, 59.563, 98.916, 150.008, 213.427, 289.678]\n",
    "dirichlet_high = [3.214, 4.313, 5.195, 5.951, 6.616, 7.214, 7.756]\n",
    "bound_low = [25/57*(1 + np.log(pp-1))**2 for pp in p]\n",
    "bound_high = [34/178*(1 + np.log(pp**2))**2 for pp in p]\n",
    "print(bound_low)\n",
    "print(bound_high)"
   ]
  },
  {
   "cell_type": "code",
   "execution_count": null,
   "metadata": {},
   "outputs": [],
   "source": [
    "# Plot Lumped comparison\n",
    "fig, ax1 = plt.subplots(figsize=(8, 10))\n",
    "\n",
    "ax1.set_ylabel('κ', fontsize=22)\n",
    "ax1.set_ylim([1, 500])\n",
    "ax1.set_yscale('log')\n",
    "ax1.tick_params(labelsize=20)\n",
    "\n",
    "ax1.set_xlim([1, 17])\n",
    "ax1.set_xticks([1, 5, 9, 13, 17])\n",
    "ax1.set_xlabel('Number of Nodes in 1D', fontsize=22)\n",
    "\n",
    "ax1.plot(p, lumped_high, label='high-order subdomain', marker='o', markersize=10, color=BLUE)\n",
    "ax1.plot(p, lumped_low, label='low-order subdomain', marker='s', markersize=10, color=YELLOW)\n",
    "\n",
    "ax1.spines['top'].set_visible(False)\n",
    "ax1.grid(color='lightgrey')\n",
    "\n",
    "fig.legend(fontsize=20, loc=[0.17,0.81])\n",
    "ax1.set_title('Lumped BDDC - Low-Order vs High-Order Subdomain', fontsize=24)\n",
    "plt.savefig(\"lowVsHighLumped_tall\", bbox_inches='tight')"
   ]
  },
  {
   "cell_type": "code",
   "execution_count": null,
   "metadata": {
    "scrolled": true
   },
   "outputs": [],
   "source": [
    "# Plot Dirichlet comparison\n",
    "fig, ax1 = plt.subplots(figsize=(8, 10))\n",
    "\n",
    "ax1.set_ylabel('κ', fontsize=22)\n",
    "ax1.set_ylim([1, 500])\n",
    "ax1.set_yscale('log')\n",
    "ax1.tick_params(labelsize=20)\n",
    "\n",
    "ax1.set_xlim([1, 17])\n",
    "ax1.set_xticks([1, 5, 9, 13, 17])\n",
    "ax1.set_xlabel('Number of Nodes in 1D', fontsize=22)\n",
    "\n",
    "ax1.plot(p, dirichlet_high, label='high-order subdomain', marker='o', markersize=10, color=BLUE)\n",
    "ax1.plot(p, dirichlet_low, label='low-order subdomain', marker='s', markersize=10, color=YELLOW)\n",
    "\n",
    "ax1.spines['top'].set_visible(False)\n",
    "ax1.grid(color='lightgrey')\n",
    "\n",
    "fig.legend(fontsize=20, loc=[0.17,0.81])\n",
    "ax1.set_title('Dirichlet BDDC - Low-Order vs High-Order Subdomain', fontsize=24)\n",
    "plt.savefig(\"lowVsHighDirichlet_tall\", bbox_inches='tight')"
   ]
  },
  {
   "cell_type": "code",
   "execution_count": null,
   "metadata": {},
   "outputs": [],
   "source": [
    "# Plot Dirichlet comparison\n",
    "fig, ax1 = plt.subplots(figsize=(10, 8))\n",
    "\n",
    "ax1.set_ylabel('κ', fontsize=22)\n",
    "ax1.set_ylim([1, 10])\n",
    "ax1.set_yscale('log')\n",
    "ax1.tick_params(labelsize=20)\n",
    "\n",
    "ax1.set_xlim([1, 17])\n",
    "ax1.set_xticks([1, 5, 9, 13, 17])\n",
    "ax1.set_xlabel('Number of Nodes in 1D', fontsize=22)\n",
    "\n",
    "ax1.plot(p, dirichlet_high, label='high-order subdomain', marker='o', markersize=10, color=BLUE)\n",
    "ax1.plot(p, dirichlet_low, label='low-order subdomain', marker='s', markersize=10, color=YELLOW)\n",
    "ax1.plot(p, bound_high, label='high-order bound', marker='', markersize=10, color=BLUE, linestyle='dashed')\n",
    "ax1.plot(p, bound_low, label='low-order bound', marker='', markersize=10, color=YELLOW, linestyle='dashed')\n",
    "\n",
    "ax1.spines['top'].set_visible(False)\n",
    "ax1.grid(color='lightgrey')\n",
    "\n",
    "fig.legend(fontsize=20, loc=[0.47,0.12])\n",
    "ax1.set_title('Dirichlet BDDC - Low-Order vs High-Order Subdomain Bounds', fontsize=24)\n",
    "plt.savefig(\"lowVsHighDirichletBounds\", bbox_inches='tight')"
   ]
  }
 ],
 "metadata": {
  "kernelspec": {
   "display_name": "Python 3",
   "language": "python",
   "name": "python3"
  },
  "language_info": {
   "codemirror_mode": {
    "name": "ipython",
    "version": 3
   },
   "file_extension": ".py",
   "mimetype": "text/x-python",
   "name": "python",
   "nbconvert_exporter": "python",
   "pygments_lexer": "ipython3",
   "version": "3.9.6"
  }
 },
 "nbformat": 4,
 "nbformat_minor": 4
}
