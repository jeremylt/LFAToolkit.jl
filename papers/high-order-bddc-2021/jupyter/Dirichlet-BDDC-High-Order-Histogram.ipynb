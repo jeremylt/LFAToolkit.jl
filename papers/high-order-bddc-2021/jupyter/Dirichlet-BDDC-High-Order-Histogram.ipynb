{
 "cells": [
  {
   "cell_type": "markdown",
   "metadata": {},
   "source": [
    "# Dirichlet BDDC Example"
   ]
  },
  {
   "cell_type": "code",
   "execution_count": null,
   "metadata": {},
   "outputs": [],
   "source": [
    "# dependencies\n",
    "using LFAToolkit\n",
    "using LinearAlgebra\n",
    "using Pkg\n",
    "Pkg.activate(\"./\")\n",
    "Pkg.instantiate()\n",
    "using Plots"
   ]
  },
  {
   "cell_type": "code",
   "execution_count": null,
   "metadata": {
    "code_folding": []
   },
   "outputs": [],
   "source": [
    "# setup\n",
    "p = 4\n",
    "mesh = Mesh2D(1.0, 1.0)\n",
    "\n",
    "# diffusion operator\n",
    "diffusion = GalleryOperator(\"diffusion\", p + 1, p + 2, mesh)\n",
    "\n",
    "# Dirichlet BDDC smoother\n",
    "bddc = DirichletBDDC(diffusion)"
   ]
  },
  {
   "cell_type": "code",
   "execution_count": null,
   "metadata": {
    "code_folding": [
     14,
     16,
     27
    ],
    "scrolled": true
   },
   "outputs": [],
   "source": [
    "# full operator symbols\n",
    "numbersteps = 4\n",
    "maxeigenvalue = 0\n",
    "θ_min = -π/2\n",
    "θ_max = 3π/2\n",
    "θ_step = 2π/(numbersteps-1)\n",
    "θ_range = θ_min:θ_step:θ_max\n",
    "\n",
    "# compute and plot smoothing factor\n",
    "# setup\n",
    "ω = [1.0]\n",
    "eigenvalues = []\n",
    "\n",
    "# compute\n",
    "for i in 1:numbersteps, j in 1:numbersteps\n",
    "    θ = [θ_range[i], θ_range[j]]\n",
    "    if sqrt(abs(θ[1])^2 + abs(θ[2])^2) > π/128\n",
    "        A = computesymbols(bddc, ω, θ)\n",
    "        currenteigenvalues = [abs(val) for val in eigvals(I - A)]\n",
    "        push!(eigenvalues, currenteigenvalues)\n",
    "    end\n",
    "end\n",
    "\n",
    "# plot\n",
    "histogram(\n",
    "    eigenvalues,\n",
    "    title=\"Dirichlet BDDC Eigenvalues\",\n",
    "    legend=false,\n",
    "    aspect_ratio=:equal,\n",
    "    color=:cividis\n",
    ")"
   ]
  },
  {
   "cell_type": "code",
   "execution_count": null,
   "metadata": {},
   "outputs": [],
   "source": [
    "savefig(\"DirichletBDDCHighOrderEigenvalues\")"
   ]
  }
 ],
 "metadata": {
  "kernelspec": {
   "display_name": "Julia 1.6.1",
   "language": "julia",
   "name": "julia-1.6"
  },
  "language_info": {
   "file_extension": ".jl",
   "mimetype": "application/julia",
   "name": "julia",
   "version": "1.6.2"
  }
 },
 "nbformat": 4,
 "nbformat_minor": 4
}
